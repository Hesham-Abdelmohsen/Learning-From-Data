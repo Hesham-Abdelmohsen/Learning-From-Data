{
 "cells": [
  {
   "cell_type": "code",
   "execution_count": 3,
   "metadata": {},
   "outputs": [
    {
     "name": "stderr",
     "output_type": "stream",
     "text": [
      "<ipython-input-3-d079c4ffa595>:41: RuntimeWarning: overflow encountered in square\n",
      "  cost = (error**2).sum() / 2.0\n"
     ]
    },
    {
     "data": {
      "image/png": "[encoded data removed]",
      "text/plain": [
       "<Figure size 432x288 with 1 Axes>"
      ]
     },
     "metadata": {
      "needs_background": "light"
     },
     "output_type": "display_data"
    },
    {
     "name": "stdout",
     "output_type": "stream",
     "text": [
      "Misclassified samples: 28936\n",
      "\n",
      "sum squared error = 0 till # epoches increase to 40 then sum squared error increase above 2 we should decrease # epoches below 40 so that sum squared error = 0\n"
     ]
    }
   ],
   "source": [
    "                            # Name : Hesham Abdelmohsen Abdallah Hassan\n",
    "                            #  ID  : 20180330  \n",
    "                                    \n",
    "\n",
    "%matplotlib inline\n",
    "\n",
    "import os, math\n",
    "from IPython.display import Image\n",
    "import numpy as np\n",
    "seed = np.random.seed\n",
    "\n",
    "import pandas as pd\n",
    "import matplotlib.pyplot as plt\n",
    "\n",
    "from sklearn.linear_model import Perceptron\n",
    "from sklearn.metrics import accuracy_score\n",
    "from sklearn.model_selection import train_test_split\n",
    "from sklearn.preprocessing import StandardScaler\n",
    "\n",
    "# /*******************************************/\n",
    "# /**********************************************/\n",
    "\n",
    "class AdalineGD(object):\n",
    "    \n",
    "    \n",
    "    def __init__(self, eta=0.1, n_iter=50, random_state=1):\n",
    "        self.eta = eta                   # learning rate\n",
    "        self.n_iter = n_iter             # number of epoches\n",
    "        self.random_state = random_state # the seed of random number generator\n",
    "\n",
    "    \n",
    "    \n",
    "    def fit(self, X, y):\n",
    "                \n",
    "        rgen = np.random.RandomState(self.random_state)\n",
    "        # weights after fitting\n",
    "        self.w_ = rgen.normal(loc=0.0, scale=0.01, size=1+X.shape[1])\n",
    "        self.cost_ = []\n",
    "\n",
    "        for i in range(self.n_iter):\n",
    "            output = self.activation(X)\n",
    "            \n",
    "            # Cost function\n",
    "            error = (y - output)\n",
    "            cost = (error**2).sum() / 2.0\n",
    "            self.cost_.append(cost)\n",
    "            \n",
    "            # Update rule\n",
    "            self.w_[1:] += self.eta * X.T.dot(error)\n",
    "            self.w_[0] += self.eta * error.sum()\n",
    "            \n",
    "        return self\n",
    "\n",
    "    def net_input(self, X):\n",
    "        \"\"\"Calculate net input\"\"\"\n",
    "        return np.dot(X.astype(float).astype(int), self.w_[1:].astype(float).astype(int)) + self.w_[0]\n",
    "\n",
    "    def activation(self, X):\n",
    "        \"\"\"Compute linear activation\"\"\"\n",
    "        return self.net_input(X)\n",
    "\n",
    "    def predict(self, X):\n",
    "        \"\"\"Return class label after unit step\"\"\"\n",
    "        return np.where(self.activation(X) >= 0.0, 1, -1)\n",
    "    \n",
    "# /************************************************/\n",
    "\n",
    "df = pd.read_csv('weatherHistory.csv' , header = None)\n",
    "\n",
    "df.columns = ['Formatted Date', 'Summary', 'Precip Type', 'Temperature (C)', 'Apparent Temperature (C)'\n",
    "             , 'Humidity', 'Wind Speed (km/h)', 'Wind Bearing (degrees)', 'Visibility (km)'\n",
    "             , 'Loud Cover', 'Pressure (millibars)', 'Daily Summary']\n",
    "\n",
    "\n",
    "X = df[['Temperature (C)', 'Apparent Temperature (C)'\n",
    "             , 'Wind Speed (km/h)', 'Wind Bearing (degrees)', 'Visibility (km)'\n",
    "             , 'Loud Cover']].values\n",
    "y = pd.factorize(df['Humidity'])[0]\n",
    "\n",
    "X_train, X_test, y_train, y_test = train_test_split(X, y, test_size=0.3)\n",
    "\n",
    "# /************************************/\n",
    "# /************************************/\n",
    "\n",
    "ada = AdalineGD(n_iter=50, eta=0.1)\n",
    "ada.fit(X_train, y_train)\n",
    "\n",
    "plt.plot(range(1, len(ada.cost_) + 1), ada.cost_, marker='o')\n",
    "plt.xlabel('Epochs')\n",
    "plt.ylabel('Sum-squared-error')\n",
    "\n",
    "plt.tight_layout()\n",
    "plt.show()\n",
    "\n",
    "y_pred = ada.predict(X_test)\n",
    "print('Misclassified samples: %d' % (y_test != y_pred).sum())\n",
    "\n",
    "# comment\n",
    "print('\\nsum squared error = 0 till # epoches increase to 40 then sum squared error increase above 2 '  \n",
    "       'we should decrease # epoches below 40 so that sum squared error = 0')\n",
    "\n"
   ]
  },
  {
   "cell_type": "code",
   "execution_count": null,
   "metadata": {},
   "outputs": [],
   "source": []
  },
  {
   "cell_type": "code",
   "execution_count": null,
   "metadata": {},
   "outputs": [],
   "source": []
  }
 ],
 "metadata": {
  "kernelspec": {
   "display_name": "Python 3",
   "language": "python",
   "name": "python3"
  },
  "language_info": {
   "codemirror_mode": {
    "name": "ipython",
    "version": 3
   },
   "file_extension": ".py",
   "mimetype": "text/x-python",
   "name": "python",
   "nbconvert_exporter": "python",
   "pygments_lexer": "ipython3",
   "version": "3.8.3"
  }
 },
 "nbformat": 4,
 "nbformat_minor": 4
}
